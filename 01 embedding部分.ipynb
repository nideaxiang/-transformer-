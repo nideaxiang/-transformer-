{
 "cells": [
  {
   "cell_type": "code",
   "execution_count": 11,
   "id": "a0bf44df",
   "metadata": {},
   "outputs": [],
   "source": [
    "import torch\n",
    "from torch import nn\n",
    "import torch.nn.functional as F\n",
    "import math"
   ]
  },
  {
   "cell_type": "code",
   "execution_count": 12,
   "id": "6ae5d1ec",
   "metadata": {},
   "outputs": [
    {
     "name": "stdout",
     "output_type": "stream",
     "text": [
      "tensor([[0.2758, 0.0750, 0.6040, 0.0393],\n",
      "        [0.9600, 0.4581, 0.0760, 0.8345],\n",
      "        [0.0242, 0.3250, 0.5424, 0.5312],\n",
      "        [0.8575, 0.7061, 0.4172, 0.4962]])\n"
     ]
    }
   ],
   "source": [
    "#验证库的有效性\n",
    "random_torch=torch.rand(4,4)\n",
    "print(random_torch)"
   ]
  },
  {
   "cell_type": "code",
   "execution_count": 13,
   "id": "0fb1f392",
   "metadata": {},
   "outputs": [],
   "source": [
    "#将输入的词汇表索引转换为指定维度的embedding\n",
    "class TokenEmbedding(nn.Embedding):\n",
    "    def __init__(self,vocab_size,d_model):#词汇表的大小与embedding的维度\n",
    "        super(TokenEmbedding,self).__init__(vocab_size,d_model,padding_idx=1)"
   ]
  },
  {
   "cell_type": "markdown",
   "id": "5eb25a3a",
   "metadata": {},
   "source": [
    "- nn.Embedding 的参数是 (num_embeddings, embedding_dim, padding_idx=None)\n",
    "- 当输入一个批次的句子（形状 [batch_size, seq_len]），TokenEmbedding 会把每个 token 的 id 转换成一个 d_model 维的向量。"
   ]
  },
  {
   "cell_type": "code",
   "execution_count": 17,
   "id": "9fa76467",
   "metadata": {},
   "outputs": [],
   "source": [
    "#位置嵌入\n",
    "class PositionalEmbedding(nn.Module):\n",
    "    def __init__(self,d_model,max_len,device):\n",
    "        super( PositionalEmbedding,self).__init__()\n",
    "        self.encoding=torch.zeros(max_len,d_model,device=device)\n",
    "        self.encoding.requires_grad =False\n",
    "        \n",
    "        #以上为位置编码 (Positional Encoding)，让模型知道句子中单词的顺序。\n",
    "        \n",
    "        \n",
    "        pos=torch.arange(0,max_len,device=device) #表示序列中每个位置\n",
    "        pos=pos.float().unsqueeze(dim=1) #变成列向量，方便后续广播计算\n",
    "        _2i=torch.arange(0,d_model,step=2,device=device).float() #代表偶数位置的维度索引\n",
    "        #设置位置编码 奇数位置偶数位置\n",
    "        self.encoding[:,0::2]=torch.sin(pos/(10000**(_2i/d_model)))\n",
    "        self.encoding[:,1::2]=torch.cos(pos/(10000**(_2i/d_model)))\n",
    "        #前向传播的过程\n",
    "    \n",
    "    def forward(self,x):\n",
    "        batch_size,seq_len=x.size()\n",
    "        return self.encoding[:seq_len,:]\n",
    "    "
   ]
  },
  {
   "cell_type": "code",
   "execution_count": 18,
   "id": "5ead945e",
   "metadata": {},
   "outputs": [],
   "source": [
    "#两部分结合 以及dropout\n",
    "class TransformerEmbedding(nn.Module):\n",
    "    def __init__(self,vocab_size,d_model,max_len,drop_prob,device):\n",
    "        super(TransformerEmbedding,self).__init__()\n",
    "        self.tok_emb=TokenEmbedding(vocab_size,d_model)\n",
    "        self.pos_emb=PositionalEmbedding(d_model,max_len,device)\n",
    "        self.drop_out=nn.Dropout(p=drop_prob)\n",
    "        \n",
    "    def forward(self,x):\n",
    "        tok_emb=self.tok_emb(x)\n",
    "        pos_emb=self.pos_emb(x)\n",
    "        return self.drop_out(tok_emb+pos_emb)"
   ]
  },
  {
   "cell_type": "markdown",
   "id": "8e6a1b73",
   "metadata": {},
   "source": [
    "- tok_emb(x)：把 [batch_size, seq_len] 的 token id 转换为 [batch_size, seq_len, d_model] 的词向量。\n",
    "- pos_emb(x)：生成 [seq_len, d_model] 的位置编码（可能需要扩展成 [batch_size, seq_len, d_model]）。\n",
    "- tok_emb + pos_emb：把词向量和位置信息相加。\n",
    "- Dropout：正则化，防止过拟合。\n",
    "### 最终输出 [batch_size, seq_len, d_model]，作为 Transformer 的输入。"
   ]
  },
  {
   "cell_type": "markdown",
   "id": "8b7a1d4b",
   "metadata": {},
   "source": [
    "# 数据流动示意"
   ]
  },
  {
   "cell_type": "code",
   "execution_count": 19,
   "id": "e94ab5d2",
   "metadata": {},
   "outputs": [
    {
     "name": "stdout",
     "output_type": "stream",
     "text": [
      "输入 x 的形状: torch.Size([2, 4])\n",
      "输入 x 的内容:\n",
      " tensor([[2, 5, 7, 1],\n",
      "        [3, 9, 4, 1]])\n",
      "\n",
      "输出 embedding 的形状: torch.Size([2, 4, 6])\n",
      "输出 embedding 示例:\n",
      " tensor([[[ 0.1572,  2.4798, -0.7344,  2.2878, -0.9293,  0.9443],\n",
      "         [ 0.0421,  0.0000,  1.7298,  0.0000, -1.3695, -0.1315],\n",
      "         [ 0.6056,  0.1363, -1.4040,  0.7559,  2.5565, -0.2930],\n",
      "         [ 0.1568, -1.1000,  0.1542,  1.1004,  0.0072,  1.1111]],\n",
      "\n",
      "        [[ 0.0000,  0.7314, -0.6190,  0.0000, -1.1384,  0.2420],\n",
      "         [-0.0000,  0.5796,  0.1451,  2.4555,  0.0000,  1.3581],\n",
      "         [-0.4549, -0.0915,  0.3040,  2.1437,  0.7554,  0.5495],\n",
      "         [ 0.1568, -1.1000,  0.1542,  1.1004,  0.0072,  1.1111]]],\n",
      "       grad_fn=<MulBackward0>)\n"
     ]
    }
   ],
   "source": [
    "if __name__ == \"__main__\":\n",
    "    # 假设参数\n",
    "    vocab_size = 10   # 词表大小\n",
    "    d_model = 6       # embedding维度\n",
    "    max_len = 20      # 位置编码支持的最大长度\n",
    "    drop_prob = 0.1\n",
    "    device = \"cpu\"\n",
    "\n",
    "    # 模型\n",
    "    emb = TransformerEmbedding(vocab_size, d_model, max_len, drop_prob, device)\n",
    "\n",
    "    # 输入数据：batch_size=2，seq_len=4\n",
    "    x = torch.tensor([\n",
    "        [2, 5, 7, 1],   # 第一句话 (4个token)\n",
    "        [3, 9, 4, 1]    # 第二句话\n",
    "    ])\n",
    "\n",
    "    print(\"输入 x 的形状:\", x.shape)   # (2, 4)\n",
    "    print(\"输入 x 的内容:\\n\", x)\n",
    "\n",
    "    out = emb(x)\n",
    "\n",
    "    print(\"\\n输出 embedding 的形状:\", out.shape)  # (2, 4, 6)\n",
    "    print(\"输出 embedding 示例:\\n\", out)"
   ]
  },
  {
   "cell_type": "markdown",
   "id": "fd6cfb3c",
   "metadata": {},
   "source": [
    "数据流向为:\n",
    "1. 输入 token id：(batch_size, seq_len)\n",
    "   例如 (2,4) → [[2,5,7,1],[3,9,4,1]]\n",
    "\n",
    "2. TokenEmbedding：查词表 → (batch_size, seq_len, d_model)\n",
    "   (2,4,6)\n",
    "\n",
    "3. PositionalEmbedding：生成正弦/余弦位置编码 → (seq_len, d_model)\n",
    "   广播成 (batch_size, seq_len, d_model)\n",
    "\n",
    "4. 相加并 Dropout → (batch_size, seq_len, d_model)\n",
    "   作为 Transformer 的输入。"
   ]
  },
  {
   "cell_type": "code",
   "execution_count": null,
   "id": "30d5c9ce",
   "metadata": {},
   "outputs": [],
   "source": []
  }
 ],
 "metadata": {
  "kernelspec": {
   "display_name": "bio",
   "language": "python",
   "name": "bio"
  },
  "language_info": {
   "codemirror_mode": {
    "name": "ipython",
    "version": 3
   },
   "file_extension": ".py",
   "mimetype": "text/x-python",
   "name": "python",
   "nbconvert_exporter": "python",
   "pygments_lexer": "ipython3",
   "version": "3.9.21"
  }
 },
 "nbformat": 4,
 "nbformat_minor": 5
}
